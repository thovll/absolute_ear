{
 "cells": [
  {
   "cell_type": "markdown",
   "id": "d4991065",
   "metadata": {},
   "source": [
    "# Utilisation de différentes modules python pour le son"
   ]
  },
  {
   "cell_type": "markdown",
   "id": "9119c150",
   "metadata": {},
   "source": [
    "# simpleaudio, jouer des sons synthétysés"
   ]
  },
  {
   "cell_type": "code",
   "execution_count": 1,
   "id": "befd4941",
   "metadata": {},
   "outputs": [],
   "source": [
    "#https://realpython.com/playing-and-recording-sound-python/\n",
    "\n",
    "import numpy as np\n",
    "import simpleaudio as sa\n",
    "\n",
    "frequency = [9.90000000e+01, 3.36000000e+02, 6.72000000e+02, 1.01100000e+03, 1.68200000e+03]  # Our played note will be 440 Hz\n",
    "fs = 44100  # 44100 samples per second\n",
    "seconds = 1  # Note duration of 3 seconds\n",
    "\n",
    "# Generate array with seconds*sample_rate steps, ranging between 0 and seconds\n",
    "t = np.linspace(0, seconds, seconds * fs, False)\n",
    "\n",
    "note=0\n",
    "# Generate a 440 Hz sine wave\n",
    "for k in range(len(frequency)):\n",
    "    note += np.sin(frequency[k] * t * 2 * np.pi)\n",
    "    \n",
    "# Ensure that highest value is in 16-bit range\n",
    "audio = note * (2**15 - 1) / np.max(np.abs(note))\n",
    "# Convert to 16-bit data\n",
    "audio = audio.astype(np.int16)\n",
    "\n",
    "# Start playback\n",
    "play_obj = sa.play_buffer(audio, 1, 2, fs)\n",
    "\n",
    "# Wait for playback to finish before exiting\n",
    "play_obj.wait_done()"
   ]
  },
  {
   "cell_type": "code",
   "execution_count": 2,
   "id": "e39dab98",
   "metadata": {},
   "outputs": [
    {
     "name": "stdout",
     "output_type": "stream",
     "text": [
      "19\n",
      "19\n"
     ]
    }
   ],
   "source": [
    "import numpy as np\n",
    "import simpleaudio as sa\n",
    "\n",
    "freq_sw = [329.63, 493.88, 440, 415.30, 369.99, 659.26, 493.88, 440, 415.30, 369.99, 659.26, 493.88, 440, 415.30,440, 369.99]\n",
    "time_lst_sw = [1, 1, 0.3, 0.3, 0.4, 1, 1, 0.3, 0.3, 0.4, 1,1,0.3,0.3,0.3, 1]\n",
    "\n",
    "freq_cs =[164.81, 293.66, 329.63, 164.81, 164.81, 164.81, 293.66, 329.63, 164.81, 164.81, 164.81, 146.83, 293.66, 329.63, 146.83, 146.83, 146.83, 293.66, 329.63]\n",
    "time_lst_cs = [0.5, 0.5, 0.5, 0.2, 0.2, 0.2, 0.5, 0.5, 0.2, 0.2, 0.2, 0.5, 0.5, 0.5, 0.2, 0.2, 0.2, 0.5, 0.5]\n",
    "\n",
    "print(len(freq_cs))\n",
    "print(len(time_lst_cs))\n",
    "note=0\n",
    "\n",
    "for k in range(len(freq_sw)):\n",
    "    fs = 44100  # 44100 samples per second\n",
    "    # Generate array with seconds*sample_rate steps, ranging between 0 and seconds\n",
    "    t = np.linspace(0, 1, 1 * fs, False)\n",
    "\n",
    "    t = t[0:int(1/(int(1/time_lst_sw[k]))*len(t))]\n",
    "    note = np.sin(freq_sw[k] * t * 2 * np.pi)\n",
    "\n",
    "    # Ensure that highest value is in 16-bit range\n",
    "    audio = note * (2**15 - 1) / np.max(np.abs(note))\n",
    "    # Convert to 16-bit data\n",
    "    audio = audio.astype(np.int16)\n",
    "\n",
    "    # Start playback\n",
    "    play_obj = sa.play_buffer(audio, 1, 2, fs)\n",
    "\n",
    "    # Wait for playback to finish before exiting\n",
    "    play_obj.wait_done() "
   ]
  },
  {
   "cell_type": "code",
   "execution_count": 3,
   "id": "ef081c5c",
   "metadata": {},
   "outputs": [
    {
     "name": "stdout",
     "output_type": "stream",
     "text": [
      "Recording\n",
      "Finished recording\n"
     ]
    }
   ],
   "source": [
    "import pyaudio\n",
    "import wave\n",
    "\n",
    "chunk = 1024  # Record in chunks of 1024 samples\n",
    "sample_format = pyaudio.paInt16  # 16 bits per sample\n",
    "channels = 1\n",
    "fs = 44100  # Record at 44100 samples per second\n",
    "seconds = 3\n",
    "filename = \"output.wav\"\n",
    "\n",
    "p = pyaudio.PyAudio()  # Create an interface to PortAudio\n",
    "\n",
    "print('Recording')\n",
    "\n",
    "stream = p.open(format=sample_format,\n",
    "                channels=channels,\n",
    "                rate=fs,\n",
    "                frames_per_buffer=chunk,\n",
    "                input=True)\n",
    "\n",
    "frames = []  # Initialize array to store frames\n",
    "\n",
    "# Store data in chunks for 3 seconds\n",
    "for i in range(0, int(fs / chunk * seconds)):\n",
    "    data = stream.read(chunk)\n",
    "    frames.append(data)\n",
    "\n",
    "# Stop and close the stream \n",
    "stream.stop_stream()\n",
    "stream.close()\n",
    "# Terminate the PortAudio interface\n",
    "p.terminate()\n",
    "\n",
    "print('Finished recording')\n",
    "\n",
    "# Save the recorded data as a WAV file\n",
    "wf = wave.open(filename, 'wb')\n",
    "wf.setnchannels(channels)\n",
    "wf.setsampwidth(p.get_sample_size(sample_format))\n",
    "wf.setframerate(fs)\n",
    "wf.writeframes(b''.join(frames))\n",
    "wf.close()"
   ]
  }
 ],
 "metadata": {
  "kernelspec": {
   "display_name": "Python 3 (ipykernel)",
   "language": "python",
   "name": "python3"
  },
  "language_info": {
   "codemirror_mode": {
    "name": "ipython",
    "version": 3
   },
   "file_extension": ".py",
   "mimetype": "text/x-python",
   "name": "python",
   "nbconvert_exporter": "python",
   "pygments_lexer": "ipython3",
   "version": "3.9.7"
  }
 },
 "nbformat": 4,
 "nbformat_minor": 5
}
